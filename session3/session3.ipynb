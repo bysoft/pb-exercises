{
 "cells": [
  {
   "cell_type": "code",
   "execution_count": 6,
   "metadata": {},
   "outputs": [],
   "source": [
    "# import everything and define a test runner function\n",
    "from importlib import reload\n",
    "from helper import run_test\n",
    "\n",
    "import ecc\n",
    "import helper\n",
    "import tx"
   ]
  },
  {
   "cell_type": "markdown",
   "metadata": {},
   "source": [
    "### Exercise 1\n",
    "\n",
    "#### 1.1. Find the WIF Format of the following:\n",
    "\n",
    "```\n",
    "2^256-2^199, mainnet, compressed\n",
    "2^256-2^201, testnet, uncompressed\n",
    "0dba685b4511dbd3d368e5c4358a1277de9486447af7b3604a69b8d9d8b7889d, mainnet, uncompressed\n",
    "1cca23de92fd1862fb5b76e5f4f50eb082165e5191e116c18ed1a6b24be6a53f, testnet, compressed\n",
    "```\n",
    "\n",
    "#### 1.2. Make [this test](/edit/session3/ecc.py) pass\n",
    "```\n",
    "ecc.py:PrivateKeyTest:test_wif\n",
    "```"
   ]
  },
  {
   "cell_type": "code",
   "execution_count": 7,
   "metadata": {},
   "outputs": [
    {
     "name": "stdout",
     "output_type": "stream",
     "text": [
      "5Km2kuu7vtF1mmnTprG5Qtchx5NYEBHp9X1nm6v1dNJSND1E5Ge\n",
      "L5oLkpV3aqArQcffQCRYUSpbk6J4qARD6bUUyf6ymX1xxX9iVxpK\n",
      "93XfLeifX7K9jqHkTC9zHVAfbjjFPLq1VTsjqjGWy73V9JUWGuo\n",
      "cWALDjUu1ts7a48vncEfqmKfNKbUVcWuAdcx65ZVGdfyDGDYyszf\n"
     ]
    }
   ],
   "source": [
    "# WIF Example\n",
    "from helper import encode_base58_checksum\n",
    "\n",
    "secret = 2**256 - 2**200\n",
    "s = secret.to_bytes(32, 'big')\n",
    "print(encode_base58_checksum(b'\\x80'+s))\n",
    "print(encode_base58_checksum(b'\\x80'+s+b'\\x01'))\n",
    "print(encode_base58_checksum(b'\\xef'+s))\n",
    "print(encode_base58_checksum(b'\\xef'+s+b'\\x01'))"
   ]
  },
  {
   "cell_type": "code",
   "execution_count": 8,
   "metadata": {},
   "outputs": [],
   "source": [
    "# Exercise 1.1\n",
    "from helper import encode_base58_checksum\n",
    "\n",
    "components = (\n",
    "    # (secret, testnet, compressed)\n",
    "    (2**256-2**199, False, True),\n",
    "    (2**256-2**201, True, False),\n",
    "    (0x0dba685b4511dbd3d368e5c4358a1277de9486447af7b3604a69b8d9d8b7889d, False, False),\n",
    "    (0x1cca23de92fd1862fb5b76e5f4f50eb082165e5191e116c18ed1a6b24be6a53f, True, True),\n",
    ")\n",
    "\n",
    "# iterate through components\n",
    "    # get the private key in 32-byte big-endian: num.to_bytes(32, 'big')\n",
    "    # prepend b'\\x80' for mainnet, b'\\xef' for testnet\n",
    "    # append b'\\x01' for compressed\n",
    "    # base58 the whole thing with checksum"
   ]
  },
  {
   "cell_type": "code",
   "execution_count": 9,
   "metadata": {},
   "outputs": [
    {
     "name": "stderr",
     "output_type": "stream",
     "text": [
      "E\n",
      "======================================================================\n",
      "ERROR: test_wif (ecc.PrivateKeyTest)\n",
      "----------------------------------------------------------------------\n",
      "Traceback (most recent call last):\n",
      "  File \"/Users/brian/Public/blockchain/pb-exercises/session3/ecc.py\", line 667, in test_wif\n",
      "    self.assertEqual(pk.wif(compressed=True, testnet=False), expected)\n",
      "  File \"/Users/brian/Public/blockchain/pb-exercises/session3/ecc.py\", line 653, in wif\n",
      "    raise NotImplementedError\n",
      "NotImplementedError\n",
      "\n",
      "----------------------------------------------------------------------\n",
      "Ran 1 test in 0.126s\n",
      "\n",
      "FAILED (errors=1)\n"
     ]
    }
   ],
   "source": [
    "# Exercise 1.2\n",
    "\n",
    "reload(ecc)\n",
    "run_test(ecc.PrivateKeyTest('test_wif'))"
   ]
  },
  {
   "cell_type": "code",
   "execution_count": null,
   "metadata": {},
   "outputs": [],
   "source": [
    "# Big/Little Endian Example\n",
    "from binascii import hexlify, unhexlify\n",
    "\n",
    "h = 1234567890\n",
    "big_endian_h = h.to_bytes(4, 'big') \n",
    "little_endian_h = h.to_bytes(4, 'little')\n",
    "print(hexlify(big_endian_h))\n",
    "print(hexlify(little_endian_h))\n",
    "s = int.from_bytes(unhexlify('17e8fa'), 'little')\n",
    "print(s)"
   ]
  },
  {
   "cell_type": "markdown",
   "metadata": {},
   "source": [
    "### Exercise 2\n",
    "\n",
    "#### 2.1. Convert the following hex from Big Endian to Little Endian:\n",
    "\n",
    "```\n",
    "03ee4f7a4e68f802303bc659f8f817964b4b74fe046facc3ae1be4679d622c45\n",
    "813f79011acb80925dfe69b3def355fe914bd1d96a3f5f71bf8303c6a989c7d1\n",
    "```\n",
    "\n",
    "#### 2.2. Convert the following numbers from Little Endian to Decimal\n",
    "\n",
    "```\n",
    "99c3980000000000\n",
    "a135ef0100000000\n",
    "```\n",
    "\n",
    "#### 2.3. Make [these tests](/edit/session3/helper.py) pass\n",
    "```\n",
    "helper.py:HelperTest:test_flip_endian\n",
    "helper.py:HelperTest:test_little_endian_to_int\n",
    "helper.py:HelperTest:test_int_to_little_endian\n",
    "```"
   ]
  },
  {
   "cell_type": "code",
   "execution_count": 3,
   "metadata": {},
   "outputs": [
    {
     "name": "stdout",
     "output_type": "stream",
     "text": [
      "b'452c629d67e41baec3ac6f04fe744b4b9617f8f859c63b3002f8684e7a4fee03'\n",
      "b'd1c789a9c60383bf715f3f6ad9d14b91fe55f3deb369fe5d9280cb1a01793f81'\n"
     ]
    }
   ],
   "source": [
    "# Exercise 2.1\n",
    "\n",
    "from binascii import hexlify, unhexlify\n",
    "\n",
    "hexes = ('03ee4f7a4e68f802303bc659f8f817964b4b74fe046facc3ae1be4679d622c45',\n",
    "         '813f79011acb80925dfe69b3def355fe914bd1d96a3f5f71bf8303c6a989c7d1')\n",
    "\n",
    "# iterate over hexes\n",
    "for h in hexes:\n",
    "    # turn into binary with unhexlify\n",
    "    b = unhexlify(h)\n",
    "    # reverse using [::-1]\n",
    "    b_rev = b[::-1]\n",
    "    # turn back to hex with hexlify\n",
    "    print(hexlify(b_rev))"
   ]
  },
  {
   "cell_type": "code",
   "execution_count": null,
   "metadata": {},
   "outputs": [],
   "source": [
    "# Exercise 2.2\n",
    "\n",
    "from binascii import unhexlify\n",
    "\n",
    "hexes =(\n",
    "    '99c3980000000000',\n",
    "    'a135ef0100000000',\n",
    ")\n",
    "\n",
    "# iterate over hexes\n",
    "    # turn into binary with unhexlify\n",
    "    # use int.from_bytes(byte_representation, 'little')"
   ]
  },
  {
   "cell_type": "code",
   "execution_count": null,
   "metadata": {},
   "outputs": [],
   "source": [
    "# Exercise 2.3\n",
    "\n",
    "reload(helper)\n",
    "run_test(helper.HelperTest('test_flip_endian'))\n",
    "run_test(helper.HelperTest('test_little_endian_to_int'))\n",
    "run_test(helper.HelperTest('test_int_to_little_endian'))"
   ]
  },
  {
   "cell_type": "markdown",
   "metadata": {},
   "source": [
    "### Exercise 3\n",
    "\n",
    "#### 3.1. Make [this test](/edit/session3/tx.py) pass\n",
    "```\n",
    "tx.py:TxTest:test_parse_version\n",
    "```"
   ]
  },
  {
   "cell_type": "code",
   "execution_count": 5,
   "metadata": {},
   "outputs": [
    {
     "name": "stderr",
     "output_type": "stream",
     "text": [
      "E\n",
      "======================================================================\n",
      "ERROR: test_parse_version (tx.TxTest)\n",
      "----------------------------------------------------------------------\n",
      "Traceback (most recent call last):\n",
      "  File \"/Users/brian/Public/blockchain/pb-exercises/session3/tx.py\", line 104, in test_parse_version\n",
      "    tx = Tx.parse(stream)\n",
      "  File \"/Users/brian/Public/blockchain/pb-exercises/session3/tx.py\", line 45, in parse\n",
      "    raise NotImplementedError\n",
      "NotImplementedError\n",
      "\n",
      "----------------------------------------------------------------------\n",
      "Ran 1 test in 0.004s\n",
      "\n",
      "FAILED (errors=1)\n"
     ]
    }
   ],
   "source": [
    "# Exercise 3.1\n",
    "\n",
    "reload(tx)\n",
    "run_test(tx.TxTest('test_parse_version'))"
   ]
  },
  {
   "cell_type": "markdown",
   "metadata": {},
   "source": [
    "### Exercise 4\n",
    "\n",
    "#### 4.1. Make [this test](/edit/session3/tx.py) pass\n",
    "```\n",
    "tx.py:TxTest:test_parse_inputs\n",
    "```"
   ]
  },
  {
   "cell_type": "code",
   "execution_count": 4,
   "metadata": {},
   "outputs": [
    {
     "name": "stderr",
     "output_type": "stream",
     "text": [
      "E\n",
      "======================================================================\n",
      "ERROR: test_parse_inputs (tx.TxTest)\n",
      "----------------------------------------------------------------------\n",
      "Traceback (most recent call last):\n",
      "  File \"/Users/brian/Public/blockchain/pb-exercises/session3/tx.py\", line 110, in test_parse_inputs\n",
      "    tx = Tx.parse(stream)\n",
      "  File \"/Users/brian/Public/blockchain/pb-exercises/session3/tx.py\", line 45, in parse\n",
      "    raise NotImplementedError\n",
      "NotImplementedError\n",
      "\n",
      "----------------------------------------------------------------------\n",
      "Ran 1 test in 0.005s\n",
      "\n",
      "FAILED (errors=1)\n"
     ]
    }
   ],
   "source": [
    "# Exercise 4.1\n",
    "\n",
    "reload(tx)\n",
    "run_test(tx.TxTest('test_parse_inputs'))"
   ]
  },
  {
   "cell_type": "markdown",
   "metadata": {},
   "source": [
    "### Exercise 5\n",
    "\n",
    "#### 5.1. Make [this test](/edit/session3/tx.py) pass\n",
    "```\n",
    "tx.py:TxTest:test_parse_outputs\n",
    "```"
   ]
  },
  {
   "cell_type": "code",
   "execution_count": null,
   "metadata": {},
   "outputs": [],
   "source": [
    "# Exercise 5.1\n",
    "\n",
    "reload(tx)\n",
    "run_test(tx.TxTest('test_parse_outputs'))"
   ]
  },
  {
   "cell_type": "markdown",
   "metadata": {},
   "source": [
    "### Exercise 6\n",
    "\n",
    "#### 6.1. Make [this test](/edit/session3/tx.py) pass\n",
    "```\n",
    "tx.py:TxTest:test_parse_locktime\n",
    "```"
   ]
  },
  {
   "cell_type": "code",
   "execution_count": null,
   "metadata": {},
   "outputs": [],
   "source": [
    "# Exercise 6.1\n",
    "\n",
    "reload(tx)\n",
    "run_test(tx.TxTest('test_parse_locktime'))"
   ]
  },
  {
   "cell_type": "markdown",
   "metadata": {},
   "source": [
    "### Exercise 7\n",
    "\n",
    "#### 7.1. What is the scriptSig from the second input in this tx?\n",
    "#### 7.2. What is the scriptPubKey of the second output in this tx?\n",
    "#### 7.3. What is the amount for the second output?\n",
    "\n",
    "```\n",
    "010000000456919960ac691763688d3d3bcea9ad6ecaf875df5339e148a1fc61c6ed7a069e010000006a47304402204585bcdef85e6b1c6af5c2669d4830ff86e42dd205c0e089bc2a821657e951c002201024a10366077f87d6bce1f7100ad8cfa8a064b39d4e8fe4ea13a7b71aa8180f012102f0da57e85eec2934a82a585ea337ce2f4998b50ae699dd79f5880e253dafafb7feffffffeb8f51f4038dc17e6313cf831d4f02281c2a468bde0fafd37f1bf882729e7fd3000000006a47304402207899531a52d59a6de200179928ca900254a36b8dff8bb75f5f5d71b1cdc26125022008b422690b8461cb52c3cc30330b23d574351872b7c361e9aae3649071c1a7160121035d5c93d9ac96881f19ba1f686f15f009ded7c62efe85a872e6a19b43c15a2937feffffff567bf40595119d1bb8a3037c356efd56170b64cbcc160fb028fa10704b45d775000000006a47304402204c7c7818424c7f7911da6cddc59655a70af1cb5eaf17c69dadbfc74ffa0b662f02207599e08bc8023693ad4e9527dc42c34210f7a7d1d1ddfc8492b654a11e7620a0012102158b46fbdff65d0172b7989aec8850aa0dae49abfb84c81ae6e5b251a58ace5cfeffffffd63a5e6c16e620f86f375925b21cabaf736c779f88fd04dcad51d26690f7f345010000006a47304402200633ea0d3314bea0d95b3cd8dadb2ef79ea8331ffe1e61f762c0f6daea0fabde022029f23b3e9c30f080446150b23852028751635dcee2be669c2a1686a4b5edf304012103ffd6f4a67e94aba353a00882e563ff2722eb4cff0ad6006e86ee20dfe7520d55feffffff0251430f00000000001976a914ab0c0b2e98b1ab6dbf67d4750b0a56244948a87988ac005a6202000000001976a9143c82d7df364eb6c75be8c80df2b3eda8db57397088ac46430600\n",
    "```"
   ]
  },
  {
   "cell_type": "code",
   "execution_count": null,
   "metadata": {},
   "outputs": [],
   "source": [
    "# Exercise 7.1/7.2/7.3\n",
    "\n",
    "from binascii import unhexlify\n",
    "from io import BytesIO\n",
    "from tx import Tx\n",
    "\n",
    "hex_transaction = '010000000456919960ac691763688d3d3bcea9ad6ecaf875df5339e148a1fc61c6ed7a069e010000006a47304402204585bcdef85e6b1c6af5c2669d4830ff86e42dd205c0e089bc2a821657e951c002201024a10366077f87d6bce1f7100ad8cfa8a064b39d4e8fe4ea13a7b71aa8180f012102f0da57e85eec2934a82a585ea337ce2f4998b50ae699dd79f5880e253dafafb7feffffffeb8f51f4038dc17e6313cf831d4f02281c2a468bde0fafd37f1bf882729e7fd3000000006a47304402207899531a52d59a6de200179928ca900254a36b8dff8bb75f5f5d71b1cdc26125022008b422690b8461cb52c3cc30330b23d574351872b7c361e9aae3649071c1a7160121035d5c93d9ac96881f19ba1f686f15f009ded7c62efe85a872e6a19b43c15a2937feffffff567bf40595119d1bb8a3037c356efd56170b64cbcc160fb028fa10704b45d775000000006a47304402204c7c7818424c7f7911da6cddc59655a70af1cb5eaf17c69dadbfc74ffa0b662f02207599e08bc8023693ad4e9527dc42c34210f7a7d1d1ddfc8492b654a11e7620a0012102158b46fbdff65d0172b7989aec8850aa0dae49abfb84c81ae6e5b251a58ace5cfeffffffd63a5e6c16e620f86f375925b21cabaf736c779f88fd04dcad51d26690f7f345010000006a47304402200633ea0d3314bea0d95b3cd8dadb2ef79ea8331ffe1e61f762c0f6daea0fabde022029f23b3e9c30f080446150b23852028751635dcee2be669c2a1686a4b5edf304012103ffd6f4a67e94aba353a00882e563ff2722eb4cff0ad6006e86ee20dfe7520d55feffffff0251430f00000000001976a914ab0c0b2e98b1ab6dbf67d4750b0a56244948a87988ac005a6202000000001976a9143c82d7df364eb6c75be8c80df2b3eda8db57397088ac46430600'\n",
    "\n",
    "# unhexlify to get the binary representation\n",
    "# create a stream using BytesIO()\n",
    "# parse from tx\n",
    "# print tx's second input's scriptSig hexlified\n",
    "# print tx's first output's scriptPubKey hexlified\n",
    "# print tx's first output's amount"
   ]
  }
 ],
 "metadata": {
  "kernelspec": {
   "display_name": "Python 3",
   "language": "python",
   "name": "python3"
  },
  "language_info": {
   "codemirror_mode": {
    "name": "ipython",
    "version": 3
   },
   "file_extension": ".py",
   "mimetype": "text/x-python",
   "name": "python",
   "nbconvert_exporter": "python",
   "pygments_lexer": "ipython3",
   "version": "3.6.4"
  }
 },
 "nbformat": 4,
 "nbformat_minor": 2
}
